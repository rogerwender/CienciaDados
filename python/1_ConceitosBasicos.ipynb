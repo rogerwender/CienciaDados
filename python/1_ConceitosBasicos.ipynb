{
  "nbformat": 4,
  "nbformat_minor": 0,
  "metadata": {
    "colab": {
      "name": "1-ConceitosBasicos.ipynb",
      "provenance": [],
      "authorship_tag": "ABX9TyO/FSekqtxdrMwg+jjn86JX",
      "include_colab_link": true
    },
    "kernelspec": {
      "name": "python3",
      "display_name": "Python 3",
      "language": "python"
    }
  },
  "cells": [
    {
      "source": [
        "#Comandos básicos em Python"
      ],
      "cell_type": "code",
      "metadata": {},
      "execution_count": 7,
      "outputs": []
    },
    {
      "cell_type": "code",
      "metadata": {
        "colab": {
          "base_uri": "https://localhost:8080/"
        },
        "id": "N_8tRQakxhWP",
        "outputId": "f9cf149e-404a-49f5-cfbc-2b93ba464bdb"
      },
      "source": [
        "print (\"Estudos Python\") #comentario linguagem de programação?\")\r\n",
        "nome = input(\"Qual é a melhor linguagem de programação?\")\r\n",
        "if nome == \"python\":\r\n",
        "  print (\"voce acertou\")\r\n",
        "else:\r\n",
        "  print (\"errou\")"
      ],
      "execution_count": 8,
      "outputs": [
        {
          "output_type": "stream",
          "name": "stdout",
          "text": [
            "Estudos Python\n",
            "voce acertou\n"
          ]
        }
      ]
    },
    {
      "cell_type": "code",
      "metadata": {
        "id": "Ol_JkFfu0MbQ"
      },
      "source": [
        "#Dicionario\r\n",
        "dicionario = {\"nome\":\"Joao\", \"idade\":28}\r\n",
        "print(dicionario)\r\n",
        "\r\n",
        "#Lista\r\n",
        "lista = [\"item1\", \"item2\", 3, \"quatro\", 3.14]\r\n",
        "print(lista)\r\n",
        "type(lista)\r\n",
        "\r\n",
        "tupla = (1,2,3,\"python\")\r\n",
        "print(tupla)\r\n",
        "\r\n",
        "type(tupla)"
      ],
      "execution_count": 1,
      "outputs": [
        {
          "output_type": "stream",
          "name": "stdout",
          "text": [
            "{'nome': 'Joao', 'idade': 28}\n['item1', 'item2', 3, 'quatro', 3.14]\n(1, 2, 3, 'python')\n"
          ]
        },
        {
          "output_type": "execute_result",
          "data": {
            "text/plain": [
              "tuple"
            ]
          },
          "metadata": {},
          "execution_count": 1
        }
      ]
    },
    {
      "cell_type": "code",
      "metadata": {
        "id": "YC7tTpXr5Cr3"
      },
      "source": [
        "#Laço While\r\n",
        "x = 1\r\n",
        "while x < 10:\r\n",
        "  print (\"Numero: %s \" %x)\r\n",
        "  x += 1\r\n",
        "print(\"O while acabou\")"
      ],
      "execution_count": null,
      "outputs": []
    },
    {
      "cell_type": "code",
      "metadata": {
        "id": "6qOGWRhA56Ho"
      },
      "source": [
        "#Laço for\r\n",
        "fruta = [\"Laranja\", \"Melancia\", \"Uva\"]\r\n",
        "for f in fruta:\r\n",
        "  print(f)"
      ],
      "execution_count": null,
      "outputs": []
    },
    {
      "cell_type": "code",
      "metadata": {
        "id": "LeN3a4Fv6fks"
      },
      "source": [
        "#Funcao range\r\n",
        "for i in range(10, 0, -1): #parametros função range(inicio, fim, incremento)\r\n",
        "  print(i)"
      ],
      "execution_count": null,
      "outputs": []
    },
    {
      "cell_type": "code",
      "metadata": {
        "colab": {
          "base_uri": "https://localhost:8080/"
        },
        "id": "6xrHDP5i7Xa0",
        "outputId": "2f7d3110-b3c9-4ace-eb2f-f5daf3e9a45c"
      },
      "source": [
        "#Funcoes\r\n",
        "def divisao (dividendo, divisor):\r\n",
        "  quociente = dividendo // divisor\r\n",
        "  resto = dividendo % divisor\r\n",
        "  return quociente, resto\r\n",
        "\r\n",
        "q, r = divisao(35, 3)\r\n",
        "print(q, r)\r\n",
        "\r\n",
        "_, r = divisao(35,3)\r\n"
      ],
      "execution_count": 18,
      "outputs": [
        {
          "output_type": "stream",
          "text": [
            "11 2\n"
          ],
          "name": "stdout"
        }
      ]
    },
    {
      "cell_type": "code",
      "metadata": {
        "colab": {
          "base_uri": "https://localhost:8080/"
        },
        "id": "wxPQA-1z9vH1",
        "outputId": "4d150dcf-9e54-4841-af3f-53a9226a3bb1"
      },
      "source": [
        "#função lambda\r\n",
        "var = lambda x: x*2\r\n",
        "print(var(2))"
      ],
      "execution_count": 19,
      "outputs": [
        {
          "output_type": "stream",
          "text": [
            "4\n"
          ],
          "name": "stdout"
        }
      ]
    },
    {
      "cell_type": "code",
      "metadata": {
        "colab": {
          "base_uri": "https://localhost:8080/"
        },
        "id": "kCu7__AH95nN",
        "outputId": "21a91ec3-fd89-4c15-9abc-5d9faf95e37b"
      },
      "source": [
        "#Lista de função anonimas\r\n",
        "anonimas = [lambda x: x**2, \r\n",
        "            lambda x: x**3,\r\n",
        "            lambda x: x**4]\r\n",
        "for a in anonimas:\r\n",
        "  print(a(10))"
      ],
      "execution_count": 21,
      "outputs": [
        {
          "output_type": "stream",
          "text": [
            "100\n",
            "1000\n",
            "10000\n"
          ],
          "name": "stdout"
        }
      ]
    },
    {
      "cell_type": "code",
      "execution_count": 5,
      "metadata": {},
      "outputs": [
        {
          "output_type": "stream",
          "name": "stdout",
          "text": [
            "5\n15\n"
          ]
        }
      ],
      "source": [
        "# Trabalhando com listas\n",
        "lista_vazia = []\n",
        "lista_init = [1,2,3,4,5]\n",
        "lista_herterogenea = [20, \"dias\", True]\n",
        "\n",
        "tamanho_da_lista = len(lista_init)\n",
        "print(tamanho_da_lista)\n",
        "suma_da_lista = sum(lista_init)\n",
        "print(suma_da_lista)"
      ]
    },
    {
      "cell_type": "code",
      "execution_count": 12,
      "metadata": {},
      "outputs": [
        {
          "output_type": "error",
          "ename": "TypeError",
          "evalue": "'range' object does not support item assignment",
          "traceback": [
            "\u001b[1;31m---------------------------------------------------------------------------\u001b[0m",
            "\u001b[1;31mTypeError\u001b[0m                                 Traceback (most recent call last)",
            "\u001b[1;32m<ipython-input-12-35f6d7e4dd01>\u001b[0m in \u001b[0;36m<module>\u001b[1;34m\u001b[0m\n\u001b[0;32m      2\u001b[0m \u001b[0mzero\u001b[0m \u001b[1;33m=\u001b[0m \u001b[0mx\u001b[0m\u001b[1;33m[\u001b[0m\u001b[1;36m0\u001b[0m\u001b[1;33m]\u001b[0m\u001b[1;33m\u001b[0m\u001b[1;33m\u001b[0m\u001b[0m\n\u001b[0;32m      3\u001b[0m \u001b[0mum\u001b[0m \u001b[1;33m=\u001b[0m \u001b[0mx\u001b[0m\u001b[1;33m[\u001b[0m\u001b[1;36m1\u001b[0m\u001b[1;33m]\u001b[0m\u001b[1;33m\u001b[0m\u001b[1;33m\u001b[0m\u001b[0m\n\u001b[1;32m----> 4\u001b[1;33m \u001b[0mx\u001b[0m\u001b[1;33m[\u001b[0m\u001b[1;36m0\u001b[0m\u001b[1;33m]\u001b[0m \u001b[1;33m=\u001b[0m \u001b[1;36m1\u001b[0m\u001b[1;33m\u001b[0m\u001b[1;33m\u001b[0m\u001b[0m\n\u001b[0m\u001b[0;32m      5\u001b[0m \u001b[0mprint\u001b[0m\u001b[1;33m(\u001b[0m\u001b[0mx\u001b[0m\u001b[1;33m[\u001b[0m\u001b[1;36m0\u001b[0m\u001b[1;33m]\u001b[0m\u001b[1;33m)\u001b[0m\u001b[1;33m\u001b[0m\u001b[1;33m\u001b[0m\u001b[0m\n",
            "\u001b[1;31mTypeError\u001b[0m: 'range' object does not support item assignment"
          ]
        }
      ],
      "source": [
        "x = range(10)\n",
        "zero = x[0]\n",
        "um = x[1]\n",
        "x[0] = 1\n",
        "print(x[0])\n"
      ]
    },
    {
      "cell_type": "code",
      "execution_count": 13,
      "metadata": {},
      "outputs": [
        {
          "output_type": "stream",
          "name": "stdout",
          "text": [
            "True\n"
          ]
        }
      ],
      "source": [
        "#Busca em listas, retorna verdadeiro ou falso\n",
        "print(1 in [1,2])"
      ]
    },
    {
      "cell_type": "code",
      "execution_count": 15,
      "metadata": {},
      "outputs": [
        {
          "output_type": "stream",
          "name": "stdout",
          "text": [
            "[1, 2, 3, 4, 5]\n[1, 2, 3, 4, 6]\n"
          ]
        }
      ],
      "source": [
        "#Concatenação de listas\n",
        "x = [1,2,3]\n",
        "x.extend([4,5])\n",
        "print(x)\n",
        "\n",
        "y = [1,2,3]\n",
        "z = y + [4,6]\n",
        "print(z)"
      ]
    },
    {
      "cell_type": "code",
      "execution_count": 19,
      "metadata": {},
      "outputs": [
        {
          "output_type": "stream",
          "name": "stdout",
          "text": [
            "[1, 2, 3, [4, 5]]\n"
          ]
        }
      ],
      "source": [
        "#Adicionando itens na lista\n",
        "x = [1,2,3]\n",
        "x.append([4, 5])\n",
        "print(x)"
      ]
    },
    {
      "cell_type": "code",
      "execution_count": 23,
      "metadata": {},
      "outputs": [
        {
          "output_type": "stream",
          "name": "stdout",
          "text": [
            "[0, 2, 4, 6, 8, 10, 12, 14, 16, 18, 20, 22, 24, 26, 28, 30, 32, 34, 36, 38, 40, 42, 44, 46, 48, 50, 52, 54, 56, 58, 60, 62, 64, 66, 68, 70, 72, 74, 76, 78, 80, 82, 84, 86, 88, 90, 92, 94, 96, 98]\n"
          ]
        }
      ],
      "source": [
        "#Filtrando valores pares na lista\n",
        "valores = list(range(0,100))\n",
        "listaPAR = []\n",
        "for i in valores:\n",
        "    if valores[i] % 2 ==0:\n",
        "        listaPAR.append(valores[i])\n",
        "\n",
        "print(listaPAR)"
      ]
    },
    {
      "cell_type": "code",
      "execution_count": 24,
      "metadata": {},
      "outputs": [
        {
          "output_type": "execute_result",
          "data": {
            "text/plain": [
              "[0,\n",
              " 2,\n",
              " 4,\n",
              " 6,\n",
              " 8,\n",
              " 10,\n",
              " 12,\n",
              " 14,\n",
              " 16,\n",
              " 18,\n",
              " 20,\n",
              " 22,\n",
              " 24,\n",
              " 26,\n",
              " 28,\n",
              " 30,\n",
              " 32,\n",
              " 34,\n",
              " 36,\n",
              " 38,\n",
              " 40,\n",
              " 42,\n",
              " 44,\n",
              " 46,\n",
              " 48,\n",
              " 50,\n",
              " 52,\n",
              " 54,\n",
              " 56,\n",
              " 58,\n",
              " 60,\n",
              " 62,\n",
              " 64,\n",
              " 66,\n",
              " 68,\n",
              " 70,\n",
              " 72,\n",
              " 74,\n",
              " 76,\n",
              " 78,\n",
              " 80,\n",
              " 82,\n",
              " 84,\n",
              " 86,\n",
              " 88,\n",
              " 90,\n",
              " 92,\n",
              " 94,\n",
              " 96,\n",
              " 98]"
            ]
          },
          "metadata": {},
          "execution_count": 24
        }
      ],
      "source": [
        "#List Comprehension\n",
        "valores = list(range(0,100))\n",
        "listaPAR = [i for i in valores if i%2==0]\n",
        "listaPAR"
      ]
    },
    {
      "cell_type": "code",
      "execution_count": 27,
      "metadata": {},
      "outputs": [
        {
          "output_type": "stream",
          "name": "stdout",
          "text": [
            "Impossivel modificar tupla\n"
          ]
        }
      ],
      "source": [
        "#Try Catch em Python\n",
        "x = range(10)\n",
        "try:\n",
        "    x[0] = -1\n",
        "except TypeError:\n",
        "    print(\"Impossivel modificar tupla\")"
      ]
    },
    {
      "cell_type": "code",
      "execution_count": 29,
      "metadata": {},
      "outputs": [
        {
          "output_type": "stream",
          "name": "stdout",
          "text": [
            "5 6\n5\n"
          ]
        }
      ],
      "source": [
        "#Retornando dois valores na função\n",
        "def soma_e_produto(x,y):\n",
        "    return(x+y), (x*y)\n",
        "\n",
        "s,p = soma_e_produto(2,3)\n",
        "\n",
        "print(s,p)\n",
        "\n",
        "x = s\n",
        "print(x)"
      ]
    }
  ]
}
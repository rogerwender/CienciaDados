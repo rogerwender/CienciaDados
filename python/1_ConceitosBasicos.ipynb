{
  "nbformat": 4,
  "nbformat_minor": 0,
  "metadata": {
    "colab": {
      "name": "1-ConceitosBasicos.ipynb",
      "provenance": [],
      "authorship_tag": "ABX9TyO/FSekqtxdrMwg+jjn86JX",
      "include_colab_link": true
    },
    "kernelspec": {
      "name": "python3",
      "display_name": "Python 3",
      "language": "python"
    }
  },
  "cells": [
    {
      "source": [
        "#Comandos básicos em Python"
      ],
      "cell_type": "code",
      "metadata": {},
      "execution_count": 7,
      "outputs": []
    },
    {
      "cell_type": "code",
      "metadata": {
        "colab": {
          "base_uri": "https://localhost:8080/"
        },
        "id": "N_8tRQakxhWP",
        "outputId": "f9cf149e-404a-49f5-cfbc-2b93ba464bdb"
      },
      "source": [
        "print (\"Estudos Python\") #comentario linguagem de programação?\")\r\n",
        "nome = input(\"Qual é a melhor linguagem de programação?\")\r\n",
        "if nome == \"python\":\r\n",
        "  print (\"voce acertou\")\r\n",
        "else:\r\n",
        "  print (\"errou\")"
      ],
      "execution_count": 8,
      "outputs": [
        {
          "output_type": "stream",
          "name": "stdout",
          "text": [
            "Estudos Python\n",
            "voce acertou\n"
          ]
        }
      ]
    },
    {
      "cell_type": "code",
      "metadata": {
        "id": "Ol_JkFfu0MbQ"
      },
      "source": [
        "#Dicionario\r\n",
        "dicionario = {\"nome\":\"Joao\", \"idade\":28}\r\n",
        "print(dicionario)\r\n",
        "\r\n",
        "#Lista\r\n",
        "lista = [\"item1\", \"item2\", 3, \"quatro\", 3.14]\r\n",
        "print(lista)\r\n",
        "type(lista)\r\n",
        "\r\n",
        "tupla = (1,2,3,\"python\")\r\n",
        "print(tupla)\r\n",
        "\r\n",
        "type(tupla)"
      ],
      "execution_count": null,
      "outputs": []
    },
    {
      "cell_type": "code",
      "metadata": {
        "id": "YC7tTpXr5Cr3"
      },
      "source": [
        "#Laço While\r\n",
        "x = 1\r\n",
        "while x < 10:\r\n",
        "  print (\"Numero: %s \" %x)\r\n",
        "  x += 1\r\n",
        "print(\"O while acabou\")"
      ],
      "execution_count": null,
      "outputs": []
    },
    {
      "cell_type": "code",
      "metadata": {
        "id": "6qOGWRhA56Ho"
      },
      "source": [
        "#Laço for\r\n",
        "fruta = [\"Laranja\", \"Melancia\", \"Uva\"]\r\n",
        "for f in fruta:\r\n",
        "  print(f)"
      ],
      "execution_count": null,
      "outputs": []
    },
    {
      "cell_type": "code",
      "metadata": {
        "id": "LeN3a4Fv6fks"
      },
      "source": [
        "#Funcao range\r\n",
        "for i in range(10, 0, -1): #parametros função range(inicio, fim, incremento)\r\n",
        "  print(i)"
      ],
      "execution_count": null,
      "outputs": []
    },
    {
      "cell_type": "code",
      "metadata": {
        "colab": {
          "base_uri": "https://localhost:8080/"
        },
        "id": "6xrHDP5i7Xa0",
        "outputId": "2f7d3110-b3c9-4ace-eb2f-f5daf3e9a45c"
      },
      "source": [
        "#Funcoes\r\n",
        "def divisao (dividendo, divisor):\r\n",
        "  quociente = dividendo // divisor\r\n",
        "  resto = dividendo % divisor\r\n",
        "  return quociente, resto\r\n",
        "\r\n",
        "q, r = divisao(35, 3)\r\n",
        "print(q, r)\r\n",
        "\r\n",
        "_, r = divisao(35,3)\r\n"
      ],
      "execution_count": 18,
      "outputs": [
        {
          "output_type": "stream",
          "text": [
            "11 2\n"
          ],
          "name": "stdout"
        }
      ]
    },
    {
      "cell_type": "code",
      "metadata": {
        "colab": {
          "base_uri": "https://localhost:8080/"
        },
        "id": "wxPQA-1z9vH1",
        "outputId": "4d150dcf-9e54-4841-af3f-53a9226a3bb1"
      },
      "source": [
        "#função lambda\r\n",
        "var = lambda x: x*2\r\n",
        "print(var(2))"
      ],
      "execution_count": 19,
      "outputs": [
        {
          "output_type": "stream",
          "text": [
            "4\n"
          ],
          "name": "stdout"
        }
      ]
    },
    {
      "cell_type": "code",
      "metadata": {
        "colab": {
          "base_uri": "https://localhost:8080/"
        },
        "id": "kCu7__AH95nN",
        "outputId": "21a91ec3-fd89-4c15-9abc-5d9faf95e37b"
      },
      "source": [
        "#Lista de função anonimas\r\n",
        "anonimas = [lambda x: x**2, \r\n",
        "            lambda x: x**3,\r\n",
        "            lambda x: x**4]\r\n",
        "for a in anonimas:\r\n",
        "  print(a(10))"
      ],
      "execution_count": 21,
      "outputs": [
        {
          "output_type": "stream",
          "text": [
            "100\n",
            "1000\n",
            "10000\n"
          ],
          "name": "stdout"
        }
      ]
    },
    {
      "cell_type": "code",
      "execution_count": null,
      "metadata": {},
      "outputs": [],
      "source": []
    }
  ]
}